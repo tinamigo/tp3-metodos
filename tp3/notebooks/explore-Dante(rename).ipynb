{
 "cells": [
  {
   "cell_type": "code",
   "execution_count": 1,
   "id": "8087058e-06e6-4eae-949f-26f05544d915",
   "metadata": {},
   "outputs": [],
   "source": [
    "import sys\n",
    "sys.path.append('/home/dante/Documents/metnum tps again/mn-tp3/tp3/metnum3/lib/python3.8/site-packages')\n",
    "import pandas as pd\n",
    "import seaborn as sns\n",
    "from utils import run_analysis\n",
    "import matplotlib.pyplot as plt"
   ]
  },
  {
   "cell_type": "code",
   "execution_count": 2,
   "id": "fece5086",
   "metadata": {},
   "outputs": [
    {
     "name": "stdout",
     "output_type": "stream",
     "text": [
      "<class 'pandas.core.frame.DataFrame'>\n",
      "RangeIndex: 183 entries, 0 to 182\n",
      "Data columns (total 22 columns):\n",
      " #   Column                           Non-Null Count  Dtype  \n",
      "---  ------                           --------------  -----  \n",
      " 0   Unnamed: 0                       183 non-null    int64  \n",
      " 1   Country                          183 non-null    object \n",
      " 2   Life expectancy                  183 non-null    float64\n",
      " 3   Adult Mortality                  183 non-null    float64\n",
      " 4   infant deaths                    183 non-null    float64\n",
      " 5   Alcohol                          182 non-null    float64\n",
      " 6   percentage expenditure           183 non-null    float64\n",
      " 7   Hepatitis B                      174 non-null    float64\n",
      " 8   Measles                          183 non-null    float64\n",
      " 9   BMI                              181 non-null    float64\n",
      " 10  under-five deaths                183 non-null    float64\n",
      " 11  Polio                            183 non-null    float64\n",
      " 12  Total expenditure                181 non-null    float64\n",
      " 13  Diphtheria                       183 non-null    float64\n",
      " 14  HIV/AIDS                         183 non-null    float64\n",
      " 15  GDP                              158 non-null    float64\n",
      " 16  Population                       143 non-null    float64\n",
      " 17  thinness  1-19 years             181 non-null    float64\n",
      " 18  thinness 5-9 years               181 non-null    float64\n",
      " 19  Income composition of resources  173 non-null    float64\n",
      " 20  Schooling                        173 non-null    float64\n",
      " 21  Status                           183 non-null    object \n",
      "dtypes: float64(19), int64(1), object(2)\n",
      "memory usage: 31.6+ KB\n"
     ]
    }
   ],
   "source": [
    "df = pd.read_csv(\"../dataset-folder/expectativa_de_vida.csv\")\n",
    "df.info()"
   ]
  },
  {
   "cell_type": "code",
   "execution_count": null,
   "id": "896f1134",
   "metadata": {},
   "outputs": [],
   "source": [
    "df.corr()"
   ]
  },
  {
   "cell_type": "code",
   "execution_count": null,
   "id": "7e1cc780",
   "metadata": {},
   "outputs": [],
   "source": [
    "enum = 0\n",
    "for row in df:\n",
    "    row[0] = enum\n",
    "    row[20] = 1\n",
    "    if row[20] == \"Developing\":\n",
    "        row[20] = 0\n",
    "    enum+=1\n",
    "\n",
    "print(X)"
   ]
  },
  {
   "cell_type": "code",
   "execution_count": null,
   "id": "963cf3b1",
   "metadata": {},
   "outputs": [],
   "source": [
    "df_changed =df.drop(columns=[\"Life expectancy\",\"Country\",\"Status\"],axis=1).dropna()\n",
    "run_analysis(df_changed.values,df[\"Life expectancy\"].values.reshape(-1, 1))"
   ]
  },
  {
   "cell_type": "code",
   "execution_count": null,
   "id": "7d919330",
   "metadata": {},
   "outputs": [],
   "source": [
    "df[\"Adult Mortality\"].values.reshape(-1, 1)"
   ]
  },
  {
   "cell_type": "code",
   "execution_count": null,
   "id": "8c3d9055",
   "metadata": {},
   "outputs": [],
   "source": [
    "df.drop(columns=\"Life expectancy\",axis=1).dropna()"
   ]
  },
  {
   "cell_type": "code",
   "execution_count": 3,
   "id": "a470afc3",
   "metadata": {},
   "outputs": [
    {
     "data": {
      "text/plain": [
       "<seaborn.axisgrid.FacetGrid at 0x7f53bcf8e850>"
      ]
     },
     "execution_count": 3,
     "metadata": {},
     "output_type": "execute_result"
    },
    {
     "data": {
      "image/png": "[encoded data removed]",
      "text/plain": [
       "<Figure size 452.625x360 with 1 Axes>"
      ]
     },
     "metadata": {
      "needs_background": "light"
     },
     "output_type": "display_data"
    }
   ],
   "source": [
    "sns.displot(df,x=\"HIV/AIDS\",hue=\"Status\")\n",
    "#Poca correlacion con lo que queremos predecir, si clasificamos para developed no sirve en absoluto usar este campo"
   ]
  },
  {
   "cell_type": "code",
   "execution_count": 11,
   "id": "cda4cb34",
   "metadata": {},
   "outputs": [
    {
     "data": {
      "text/plain": [
       "<AxesSubplot:xlabel='HIV/AIDS', ylabel='Life expectancy'>"
      ]
     },
     "execution_count": 11,
     "metadata": {},
     "output_type": "execute_result"
    },
    {
     "data": {
      "image/png": "[encoded data removed]",
      "text/plain": [
       "<Figure size 432x288 with 1 Axes>"
      ]
     },
     "metadata": {
      "needs_background": "light"
     },
     "output_type": "display_data"
    }
   ],
   "source": [
    "sns.scatterplot(data=df,x='HIV/AIDS',y='Life expectancy')"
   ]
  },
  {
   "cell_type": "code",
   "execution_count": null,
   "id": "93acfc7f",
   "metadata": {},
   "outputs": [],
   "source": [
    "df[[\"HIV/AIDS\",\"Measles\"]].corr()"
   ]
  },
  {
   "cell_type": "code",
   "execution_count": 12,
   "id": "f1f202ab",
   "metadata": {},
   "outputs": [
    {
     "data": {
      "text/plain": [
       "<AxesSubplot:xlabel='HIV/AIDS'>"
      ]
     },
     "execution_count": 12,
     "metadata": {},
     "output_type": "execute_result"
    },
    {
     "data": {
      "image/png": "[encoded data removed]",
      "text/plain": [
       "<Figure size 432x288 with 1 Axes>"
      ]
     },
     "metadata": {
      "needs_background": "light"
     },
     "output_type": "display_data"
    }
   ],
   "source": [
    "sns.boxplot(x=df[df[\"Status\"] !=\"Developed\"][\"HIV/AIDS\"])"
   ]
  },
  {
   "cell_type": "code",
   "execution_count": 13,
   "id": "ce4f43a8",
   "metadata": {},
   "outputs": [
    {
     "data": {
      "text/plain": [
       "<AxesSubplot:xlabel='HIV/AIDS', ylabel='Life expectancy'>"
      ]
     },
     "execution_count": 13,
     "metadata": {},
     "output_type": "execute_result"
    },
    {
     "data": {
      "image/png": "[encoded data removed]",
      "text/plain": [
       "<Figure size 432x288 with 1 Axes>"
      ]
     },
     "metadata": {
      "needs_background": "light"
     },
     "output_type": "display_data"
    }
   ],
   "source": [
    "sns.scatterplot(data=df[df[\"Status\"] !=\"Developed\"],x='HIV/AIDS',y='Life expectancy')"
   ]
  },
  {
   "cell_type": "code",
   "execution_count": 15,
   "id": "d59a586d",
   "metadata": {
    "scrolled": true
   },
   "outputs": [
    {
     "data": {
      "text/plain": [
       "<seaborn.axisgrid.FacetGrid at 0x7f53ba9652e0>"
      ]
     },
     "execution_count": 15,
     "metadata": {},
     "output_type": "execute_result"
    },
    {
     "data": {
      "image/png": "[encoded data removed]",
      "text/plain": [
       "<Figure size 452.625x360 with 1 Axes>"
      ]
     },
     "metadata": {
      "needs_background": "light"
     },
     "output_type": "display_data"
    }
   ],
   "source": [
    "sns.displot(df,x=\"GDP\",hue=\"Status\")"
   ]
  },
  {
   "cell_type": "code",
   "execution_count": null,
   "id": "5484eb5e",
   "metadata": {},
   "outputs": [],
   "source": [
    "sns.displot(df,x=\"Population\",hue=\"Status\")"
   ]
  },
  {
   "cell_type": "code",
   "execution_count": null,
   "id": "df8bf806",
   "metadata": {},
   "outputs": [],
   "source": [
    "sns.displot(df[\"thinness  1-19 years\"],kind=\"kde\")\n",
    "sns.displot(df[\"thinness 5-9 years\"],kind=\"kde\")\n",
    "plt.show()"
   ]
  },
  {
   "cell_type": "code",
   "execution_count": null,
   "id": "7e99463e",
   "metadata": {},
   "outputs": [],
   "source": [
    "sns.distplot(df[\"thinness 5-9 years\"])"
   ]
  },
  {
   "cell_type": "code",
   "execution_count": null,
   "id": "29521dd3",
   "metadata": {},
   "outputs": [],
   "source": [
    "df[[\"thinness 5-9 years\",\"thinness  1-19 years\",\"Life expectancy\"]].corr()"
   ]
  },
  {
   "cell_type": "code",
   "execution_count": 10,
   "id": "f0f994c7",
   "metadata": {},
   "outputs": [
    {
     "data": {
      "text/plain": [
       "<AxesSubplot:xlabel='thinness 5-9 years', ylabel='thinness  1-19 years'>"
      ]
     },
     "execution_count": 10,
     "metadata": {},
     "output_type": "execute_result"
    },
    {
     "data": {
      "image/png": "[encoded data removed]",
      "text/plain": [
       "<Figure size 432x288 with 1 Axes>"
      ]
     },
     "metadata": {
      "needs_background": "light"
     },
     "output_type": "display_data"
    }
   ],
   "source": [
    "sns.scatterplot(data=df,x='thinness 5-9 years',y='thinness  1-19 years')"
   ]
  },
  {
   "cell_type": "code",
   "execution_count": null,
   "id": "5d521efb",
   "metadata": {},
   "outputs": [],
   "source": [
    "df[[\"HIV/AIDS\",\"Life expectancy\"]].corr()"
   ]
  },
  {
   "cell_type": "code",
   "execution_count": null,
   "id": "bd74b53e",
   "metadata": {},
   "outputs": [],
   "source": [
    "for f in [\"thinness 5-9 years\",\"thinness  1-19 years\"]:\n",
    "    sns.displot(df,x=f)"
   ]
  }
 ],
 "metadata": {
  "kernelspec": {
   "display_name": "Python 3 (ipykernel)",
   "language": "python",
   "name": "python3"
  },
  "language_info": {
   "codemirror_mode": {
    "name": "ipython",
    "version": 3
   },
   "file_extension": ".py",
   "mimetype": "text/x-python",
   "name": "python",
   "nbconvert_exporter": "python",
   "pygments_lexer": "ipython3",
   "version": "3.8.10"
  }
 },
 "nbformat": 4,
 "nbformat_minor": 5
}
