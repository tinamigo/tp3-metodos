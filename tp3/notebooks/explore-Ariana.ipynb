{
 "cells": [
  {
   "cell_type": "code",
   "execution_count": 26,
   "id": "8087058e-06e6-4eae-949f-26f05544d915",
   "metadata": {},
   "outputs": [],
   "source": [
    "import pandas as pd\n",
    "import seaborn as sns\n",
    "from utils import run_analysis"
   ]
  },
  {
   "cell_type": "markdown",
   "id": "0b68cf64-e088-4a70-a390-18c942b76507",
   "metadata": {},
   "source": [
    "\n",
    "- under-five deaths: Number of under-five deaths per 1000 population\n",
    "- Polio: Polio (Pol3) immunization coverage among 1-year-olds (%)\n",
    "- Total expenditure: General government expenditure on health as a percentage of total government expenditure (%)\n",
    "- Diphtheria: Diphtheria tetanus toxoid and pertussis (DTP3) immunization coverage among 1-year-olds (%)"
   ]
  },
  {
   "cell_type": "code",
   "execution_count": 2,
   "id": "fece5086",
   "metadata": {},
   "outputs": [
    {
     "name": "stdout",
     "output_type": "stream",
     "text": [
      "<class 'pandas.core.frame.DataFrame'>\n",
      "RangeIndex: 183 entries, 0 to 182\n",
      "Data columns (total 22 columns):\n",
      " #   Column                           Non-Null Count  Dtype  \n",
      "---  ------                           --------------  -----  \n",
      " 0   Unnamed: 0                       183 non-null    int64  \n",
      " 1   Country                          183 non-null    object \n",
      " 2   Life expectancy                  183 non-null    float64\n",
      " 3   Adult Mortality                  183 non-null    float64\n",
      " 4   infant deaths                    183 non-null    float64\n",
      " 5   Alcohol                          182 non-null    float64\n",
      " 6   percentage expenditure           183 non-null    float64\n",
      " 7   Hepatitis B                      174 non-null    float64\n",
      " 8   Measles                          183 non-null    float64\n",
      " 9   BMI                              181 non-null    float64\n",
      " 10  under-five deaths                183 non-null    float64\n",
      " 11  Polio                            183 non-null    float64\n",
      " 12  Total expenditure                181 non-null    float64\n",
      " 13  Diphtheria                       183 non-null    float64\n",
      " 14  HIV/AIDS                         183 non-null    float64\n",
      " 15  GDP                              158 non-null    float64\n",
      " 16  Population                       143 non-null    float64\n",
      " 17  thinness  1-19 years             181 non-null    float64\n",
      " 18  thinness 5-9 years               181 non-null    float64\n",
      " 19  Income composition of resources  173 non-null    float64\n",
      " 20  Schooling                        173 non-null    float64\n",
      " 21  Status                           183 non-null    object \n",
      "dtypes: float64(19), int64(1), object(2)\n",
      "memory usage: 31.6+ KB\n"
     ]
    }
   ],
   "source": [
    "df = pd.read_csv(\"../dataset-folder/expectativa_de_vida.csv\")\n",
    "df.info()\n",
    "df_red = df[[\"Life expectancy\", \"under-five deaths\", \"Polio\", \"Total expenditure\", \"Diphtheria\"]]"
   ]
  },
  {
   "cell_type": "code",
   "execution_count": 3,
   "id": "48918448-d67d-4b66-b1fb-a888527f62a6",
   "metadata": {},
   "outputs": [
    {
     "data": {
      "text/plain": [
       "(181, 5)"
      ]
     },
     "execution_count": 3,
     "metadata": {},
     "output_type": "execute_result"
    }
   ],
   "source": [
    "df_red = df_red.dropna()\n",
    "df_red.shape"
   ]
  },
  {
   "cell_type": "code",
   "execution_count": 4,
   "id": "12ee0c9d-e3dd-4a37-af3e-6e56483691ee",
   "metadata": {},
   "outputs": [],
   "source": [
    "X = df_red.drop(columns=[\"Life expectancy\"], axis=1).values\n",
    "y = df_red[\"Life expectancy\"].values.reshape(-1, 1)"
   ]
  },
  {
   "cell_type": "code",
   "execution_count": 5,
   "id": "4ffddc3c-b374-437b-9814-9ab7464120b0",
   "metadata": {},
   "outputs": [],
   "source": [
    "u5_deaths = df_red[\"under-five deaths\"].values.reshape(-1, 1)\n",
    "polio = df_red[\"Polio\"].values.reshape(-1, 1)\n",
    "total_exp = df_red[\"Total expenditure\"].values.reshape(-1, 1)\n",
    "diphtheria = df_red[\"Diphtheria\"].values.reshape(-1, 1)"
   ]
  },
  {
   "cell_type": "code",
   "execution_count": 6,
   "id": "8322addd-fc1b-4ab9-b248-8e362ea54e8d",
   "metadata": {},
   "outputs": [],
   "source": [
    "import matplotlib.pyplot as plt\n",
    "import numpy as np"
   ]
  },
  {
   "cell_type": "code",
   "execution_count": 7,
   "id": "3eb2afd6-90c1-4006-bc65-df153c1f7853",
   "metadata": {},
   "outputs": [
    {
     "name": "stdout",
     "output_type": "stream",
     "text": [
      "<class 'pandas.core.frame.DataFrame'>\n",
      "Int64Index: 181 entries, 0 to 182\n",
      "Data columns (total 5 columns):\n",
      " #   Column             Non-Null Count  Dtype  \n",
      "---  ------             --------------  -----  \n",
      " 0   Life expectancy    181 non-null    float64\n",
      " 1   under-five deaths  181 non-null    float64\n",
      " 2   Polio              181 non-null    float64\n",
      " 3   Total expenditure  181 non-null    float64\n",
      " 4   Diphtheria         181 non-null    float64\n",
      "dtypes: float64(5)\n",
      "memory usage: 8.5 KB\n"
     ]
    },
    {
     "data": {
      "text/html": [
       "<div>\n",
       "<style scoped>\n",
       "    .dataframe tbody tr th:only-of-type {\n",
       "        vertical-align: middle;\n",
       "    }\n",
       "\n",
       "    .dataframe tbody tr th {\n",
       "        vertical-align: top;\n",
       "    }\n",
       "\n",
       "    .dataframe thead th {\n",
       "        text-align: right;\n",
       "    }\n",
       "</style>\n",
       "<table border=\"1\" class=\"dataframe\">\n",
       "  <thead>\n",
       "    <tr style=\"text-align: right;\">\n",
       "      <th></th>\n",
       "      <th>Life expectancy</th>\n",
       "      <th>under-five deaths</th>\n",
       "      <th>Polio</th>\n",
       "      <th>Total expenditure</th>\n",
       "      <th>Diphtheria</th>\n",
       "    </tr>\n",
       "  </thead>\n",
       "  <tbody>\n",
       "    <tr>\n",
       "      <th>count</th>\n",
       "      <td>181.000000</td>\n",
       "      <td>181.000000</td>\n",
       "      <td>181.000000</td>\n",
       "      <td>181.000000</td>\n",
       "      <td>181.000000</td>\n",
       "    </tr>\n",
       "    <tr>\n",
       "      <th>mean</th>\n",
       "      <td>69.312983</td>\n",
       "      <td>42.129489</td>\n",
       "      <td>82.596764</td>\n",
       "      <td>5.913418</td>\n",
       "      <td>82.466999</td>\n",
       "    </tr>\n",
       "    <tr>\n",
       "      <th>std</th>\n",
       "      <td>9.160503</td>\n",
       "      <td>158.259059</td>\n",
       "      <td>15.556081</td>\n",
       "      <td>1.922927</td>\n",
       "      <td>16.134752</td>\n",
       "    </tr>\n",
       "    <tr>\n",
       "      <th>min</th>\n",
       "      <td>46.112500</td>\n",
       "      <td>0.000000</td>\n",
       "      <td>32.875000</td>\n",
       "      <td>1.646667</td>\n",
       "      <td>26.812500</td>\n",
       "    </tr>\n",
       "    <tr>\n",
       "      <th>25%</th>\n",
       "      <td>62.568750</td>\n",
       "      <td>0.125000</td>\n",
       "      <td>71.750000</td>\n",
       "      <td>4.681333</td>\n",
       "      <td>72.375000</td>\n",
       "    </tr>\n",
       "    <tr>\n",
       "      <th>50%</th>\n",
       "      <td>72.518750</td>\n",
       "      <td>3.687500</td>\n",
       "      <td>87.812500</td>\n",
       "      <td>5.945625</td>\n",
       "      <td>88.187500</td>\n",
       "    </tr>\n",
       "    <tr>\n",
       "      <th>75%</th>\n",
       "      <td>75.156250</td>\n",
       "      <td>29.687500</td>\n",
       "      <td>95.875000</td>\n",
       "      <td>7.052000</td>\n",
       "      <td>95.750000</td>\n",
       "    </tr>\n",
       "    <tr>\n",
       "      <th>max</th>\n",
       "      <td>82.537500</td>\n",
       "      <td>1812.500000</td>\n",
       "      <td>98.937500</td>\n",
       "      <td>15.863333</td>\n",
       "      <td>99.000000</td>\n",
       "    </tr>\n",
       "  </tbody>\n",
       "</table>\n",
       "</div>"
      ],
      "text/plain": [
       "       Life expectancy  under-five deaths       Polio  Total expenditure  \\\n",
       "count       181.000000         181.000000  181.000000         181.000000   \n",
       "mean         69.312983          42.129489   82.596764           5.913418   \n",
       "std           9.160503         158.259059   15.556081           1.922927   \n",
       "min          46.112500           0.000000   32.875000           1.646667   \n",
       "25%          62.568750           0.125000   71.750000           4.681333   \n",
       "50%          72.518750           3.687500   87.812500           5.945625   \n",
       "75%          75.156250          29.687500   95.875000           7.052000   \n",
       "max          82.537500        1812.500000   98.937500          15.863333   \n",
       "\n",
       "       Diphtheria  \n",
       "count  181.000000  \n",
       "mean    82.466999  \n",
       "std     16.134752  \n",
       "min     26.812500  \n",
       "25%     72.375000  \n",
       "50%     88.187500  \n",
       "75%     95.750000  \n",
       "max     99.000000  "
      ]
     },
     "execution_count": 7,
     "metadata": {},
     "output_type": "execute_result"
    }
   ],
   "source": [
    "df_red.info()\n",
    "df_red.describe()"
   ]
  },
  {
   "cell_type": "code",
   "execution_count": 8,
   "id": "96bfc20b-23be-4e7b-a2e9-61bd2107f3d4",
   "metadata": {},
   "outputs": [
    {
     "data": {
      "text/plain": [
       "<AxesSubplot:>"
      ]
     },
     "execution_count": 8,
     "metadata": {},
     "output_type": "execute_result"
    },
    {
     "data": {
      "image/png": "[encoded data removed]",
      "text/plain": [
       "<Figure size 432x288 with 1 Axes>"
      ]
     },
     "metadata": {
      "needs_background": "light"
     },
     "output_type": "display_data"
    }
   ],
   "source": [
    "sns.boxplot(x = u5_deaths)"
   ]
  },
  {
   "cell_type": "code",
   "execution_count": 9,
   "id": "964e4da5-8eeb-425e-865c-d1f6286e5589",
   "metadata": {},
   "outputs": [
    {
     "data": {
      "text/plain": [
       "<seaborn.axisgrid.FacetGrid at 0x7f8598831040>"
      ]
     },
     "execution_count": 9,
     "metadata": {},
     "output_type": "execute_result"
    },
    {
     "data": {
      "image/png": "[encoded data removed]",
      "text/plain": [
       "<Figure size 402.25x360 with 1 Axes>"
      ]
     },
     "metadata": {
      "needs_background": "light"
     },
     "output_type": "display_data"
    }
   ],
   "source": [
    "sns.displot(u5_deaths, bins = 30, kde = True)"
   ]
  },
  {
   "cell_type": "code",
   "execution_count": 10,
   "id": "f8398f6e-ebb3-44aa-b57c-acf06401c146",
   "metadata": {},
   "outputs": [
    {
     "data": {
      "text/plain": [
       "<seaborn.axisgrid.FacetGrid at 0x7f85987a9a30>"
      ]
     },
     "execution_count": 10,
     "metadata": {},
     "output_type": "execute_result"
    },
    {
     "data": {
      "image/png": "[encoded data removed]",
      "text/plain": [
       "<Figure size 360x360 with 1 Axes>"
      ]
     },
     "metadata": {
      "needs_background": "light"
     },
     "output_type": "display_data"
    }
   ],
   "source": [
    "low_u5_deaths = df_red[df_red[\"under-five deaths\"] > 30]\n",
    "sns.displot(low_u5_deaths[\"under-five deaths\"], kde = True)"
   ]
  },
  {
   "cell_type": "code",
   "execution_count": 11,
   "id": "2c88bab2-0b2f-44b5-b932-87535b47fcd4",
   "metadata": {},
   "outputs": [
    {
     "data": {
      "text/plain": [
       "<AxesSubplot:xlabel='under-five deaths', ylabel='Polio'>"
      ]
     },
     "execution_count": 11,
     "metadata": {},
     "output_type": "execute_result"
    },
    {
     "data": {
      "image/png": "[encoded data removed]",
      "text/plain": [
       "<Figure size 432x288 with 1 Axes>"
      ]
     },
     "metadata": {
      "needs_background": "light"
     },
     "output_type": "display_data"
    }
   ],
   "source": [
    "sns.scatterplot(data = df_red, x = \"under-five deaths\", y = \"Polio\")"
   ]
  },
  {
   "cell_type": "code",
   "execution_count": 12,
   "id": "c989d1b9-d934-416e-913f-5d2851490ae2",
   "metadata": {},
   "outputs": [
    {
     "data": {
      "text/plain": [
       "<AxesSubplot:xlabel='under-five deaths', ylabel='Total expenditure'>"
      ]
     },
     "execution_count": 12,
     "metadata": {},
     "output_type": "execute_result"
    },
    {
     "data": {
      "image/png": "[encoded data removed]",
      "text/plain": [
       "<Figure size 432x288 with 1 Axes>"
      ]
     },
     "metadata": {
      "needs_background": "light"
     },
     "output_type": "display_data"
    }
   ],
   "source": [
    "sns.scatterplot(data = df_red, x = \"under-five deaths\", y = \"Total expenditure\")"
   ]
  },
  {
   "cell_type": "code",
   "execution_count": 13,
   "id": "78994d32-bc43-4ec2-92e7-1daae63c5100",
   "metadata": {},
   "outputs": [
    {
     "data": {
      "text/plain": [
       "<AxesSubplot:xlabel='under-five deaths', ylabel='Diphtheria'>"
      ]
     },
     "execution_count": 13,
     "metadata": {},
     "output_type": "execute_result"
    },
    {
     "data": {
      "image/png": "[encoded data removed]",
      "text/plain": [
       "<Figure size 432x288 with 1 Axes>"
      ]
     },
     "metadata": {
      "needs_background": "light"
     },
     "output_type": "display_data"
    }
   ],
   "source": [
    "sns.scatterplot(data = df_red, x = \"under-five deaths\", y = \"Diphtheria\")"
   ]
  },
  {
   "cell_type": "markdown",
   "id": "c6d6847c-e8ef-44ad-8c74-956beb7d5291",
   "metadata": {},
   "source": [
    "under-five deaths parece ser despreciable; no se ve que afecte mucho a ninguno de los otros targets."
   ]
  },
  {
   "cell_type": "code",
   "execution_count": 14,
   "id": "a7c73a46-4f8d-4a5e-9e10-3a3d616505fc",
   "metadata": {},
   "outputs": [
    {
     "data": {
      "text/html": [
       "<div>\n",
       "<style scoped>\n",
       "    .dataframe tbody tr th:only-of-type {\n",
       "        vertical-align: middle;\n",
       "    }\n",
       "\n",
       "    .dataframe tbody tr th {\n",
       "        vertical-align: top;\n",
       "    }\n",
       "\n",
       "    .dataframe thead th {\n",
       "        text-align: right;\n",
       "    }\n",
       "</style>\n",
       "<table border=\"1\" class=\"dataframe\">\n",
       "  <thead>\n",
       "    <tr style=\"text-align: right;\">\n",
       "      <th></th>\n",
       "      <th>under-five deaths</th>\n",
       "      <th>Diphtheria</th>\n",
       "    </tr>\n",
       "  </thead>\n",
       "  <tbody>\n",
       "    <tr>\n",
       "      <th>under-five deaths</th>\n",
       "      <td>1.000000</td>\n",
       "      <td>-0.267143</td>\n",
       "    </tr>\n",
       "    <tr>\n",
       "      <th>Diphtheria</th>\n",
       "      <td>-0.267143</td>\n",
       "      <td>1.000000</td>\n",
       "    </tr>\n",
       "  </tbody>\n",
       "</table>\n",
       "</div>"
      ],
      "text/plain": [
       "                   under-five deaths  Diphtheria\n",
       "under-five deaths           1.000000   -0.267143\n",
       "Diphtheria                 -0.267143    1.000000"
      ]
     },
     "execution_count": 14,
     "metadata": {},
     "output_type": "execute_result"
    }
   ],
   "source": [
    "df[[\"under-five deaths\", \"Diphtheria\"]].corr()"
   ]
  },
  {
   "cell_type": "code",
   "execution_count": 15,
   "id": "3e438e02-f458-476f-a545-8b84ac2c4fce",
   "metadata": {},
   "outputs": [
    {
     "data": {
      "text/html": [
       "<div>\n",
       "<style scoped>\n",
       "    .dataframe tbody tr th:only-of-type {\n",
       "        vertical-align: middle;\n",
       "    }\n",
       "\n",
       "    .dataframe tbody tr th {\n",
       "        vertical-align: top;\n",
       "    }\n",
       "\n",
       "    .dataframe thead th {\n",
       "        text-align: right;\n",
       "    }\n",
       "</style>\n",
       "<table border=\"1\" class=\"dataframe\">\n",
       "  <thead>\n",
       "    <tr style=\"text-align: right;\">\n",
       "      <th></th>\n",
       "      <th>under-five deaths</th>\n",
       "      <th>Total expenditure</th>\n",
       "    </tr>\n",
       "  </thead>\n",
       "  <tbody>\n",
       "    <tr>\n",
       "      <th>under-five deaths</th>\n",
       "      <td>1.000000</td>\n",
       "      <td>-0.168813</td>\n",
       "    </tr>\n",
       "    <tr>\n",
       "      <th>Total expenditure</th>\n",
       "      <td>-0.168813</td>\n",
       "      <td>1.000000</td>\n",
       "    </tr>\n",
       "  </tbody>\n",
       "</table>\n",
       "</div>"
      ],
      "text/plain": [
       "                   under-five deaths  Total expenditure\n",
       "under-five deaths           1.000000          -0.168813\n",
       "Total expenditure          -0.168813           1.000000"
      ]
     },
     "execution_count": 15,
     "metadata": {},
     "output_type": "execute_result"
    }
   ],
   "source": [
    "df[[\"under-five deaths\", \"Total expenditure\"]].corr()"
   ]
  },
  {
   "cell_type": "code",
   "execution_count": 16,
   "id": "9adee52a-6eac-4ed1-850b-365ae6ffe614",
   "metadata": {},
   "outputs": [
    {
     "data": {
      "text/html": [
       "<div>\n",
       "<style scoped>\n",
       "    .dataframe tbody tr th:only-of-type {\n",
       "        vertical-align: middle;\n",
       "    }\n",
       "\n",
       "    .dataframe tbody tr th {\n",
       "        vertical-align: top;\n",
       "    }\n",
       "\n",
       "    .dataframe thead th {\n",
       "        text-align: right;\n",
       "    }\n",
       "</style>\n",
       "<table border=\"1\" class=\"dataframe\">\n",
       "  <thead>\n",
       "    <tr style=\"text-align: right;\">\n",
       "      <th></th>\n",
       "      <th>under-five deaths</th>\n",
       "      <th>Polio</th>\n",
       "    </tr>\n",
       "  </thead>\n",
       "  <tbody>\n",
       "    <tr>\n",
       "      <th>under-five deaths</th>\n",
       "      <td>1.000000</td>\n",
       "      <td>-0.267112</td>\n",
       "    </tr>\n",
       "    <tr>\n",
       "      <th>Polio</th>\n",
       "      <td>-0.267112</td>\n",
       "      <td>1.000000</td>\n",
       "    </tr>\n",
       "  </tbody>\n",
       "</table>\n",
       "</div>"
      ],
      "text/plain": [
       "                   under-five deaths     Polio\n",
       "under-five deaths           1.000000 -0.267112\n",
       "Polio                      -0.267112  1.000000"
      ]
     },
     "execution_count": 16,
     "metadata": {},
     "output_type": "execute_result"
    }
   ],
   "source": [
    "df[[\"under-five deaths\", \"Polio\"]].corr()"
   ]
  },
  {
   "cell_type": "markdown",
   "id": "6dc98aa2-44d3-442a-bd51-ddbc2c32c035",
   "metadata": {},
   "source": [
    "Veamos cuánto afecta a la expectativa de vida"
   ]
  },
  {
   "cell_type": "code",
   "execution_count": 17,
   "id": "ae4718e3-5e6c-4ffe-872d-1e79a530d246",
   "metadata": {},
   "outputs": [
    {
     "data": {
      "text/html": [
       "<div>\n",
       "<style scoped>\n",
       "    .dataframe tbody tr th:only-of-type {\n",
       "        vertical-align: middle;\n",
       "    }\n",
       "\n",
       "    .dataframe tbody tr th {\n",
       "        vertical-align: top;\n",
       "    }\n",
       "\n",
       "    .dataframe thead th {\n",
       "        text-align: right;\n",
       "    }\n",
       "</style>\n",
       "<table border=\"1\" class=\"dataframe\">\n",
       "  <thead>\n",
       "    <tr style=\"text-align: right;\">\n",
       "      <th></th>\n",
       "      <th>under-five deaths</th>\n",
       "      <th>Life expectancy</th>\n",
       "    </tr>\n",
       "  </thead>\n",
       "  <tbody>\n",
       "    <tr>\n",
       "      <th>under-five deaths</th>\n",
       "      <td>1.000000</td>\n",
       "      <td>-0.225785</td>\n",
       "    </tr>\n",
       "    <tr>\n",
       "      <th>Life expectancy</th>\n",
       "      <td>-0.225785</td>\n",
       "      <td>1.000000</td>\n",
       "    </tr>\n",
       "  </tbody>\n",
       "</table>\n",
       "</div>"
      ],
      "text/plain": [
       "                   under-five deaths  Life expectancy\n",
       "under-five deaths           1.000000        -0.225785\n",
       "Life expectancy            -0.225785         1.000000"
      ]
     },
     "execution_count": 17,
     "metadata": {},
     "output_type": "execute_result"
    }
   ],
   "source": [
    "df[[\"under-five deaths\", \"Life expectancy\"]].corr()"
   ]
  },
  {
   "cell_type": "markdown",
   "id": "4a75b2d6-5079-451f-a178-74e676adf37e",
   "metadata": {},
   "source": [
    "Realmente es despreciable, lo sacamos?"
   ]
  },
  {
   "cell_type": "code",
   "execution_count": null,
   "id": "efb06cd2-aa06-4002-bbf7-cdd6e7d41df5",
   "metadata": {},
   "outputs": [],
   "source": []
  },
  {
   "cell_type": "markdown",
   "id": "87383341-91e0-4984-8743-4de669ae7332",
   "metadata": {},
   "source": [
    "Ahora veamos qué características tienen los otros targets"
   ]
  },
  {
   "cell_type": "code",
   "execution_count": 18,
   "id": "ad2b1858-8dca-4a02-af30-5f773a116477",
   "metadata": {},
   "outputs": [
    {
     "data": {
      "text/plain": [
       "<AxesSubplot:>"
      ]
     },
     "execution_count": 18,
     "metadata": {},
     "output_type": "execute_result"
    },
    {
     "data": {
      "image/png": "[encoded data removed]",
      "text/plain": [
       "<Figure size 432x288 with 1 Axes>"
      ]
     },
     "metadata": {
      "needs_background": "light"
     },
     "output_type": "display_data"
    }
   ],
   "source": [
    "enfermedades = df_red[[\"Polio\", \"Diphtheria\"]]\n",
    "sns.boxplot(data = enfermedades)"
   ]
  },
  {
   "cell_type": "markdown",
   "id": "95066971-e722-4069-8e5b-a9ad7f3c655c",
   "metadata": {},
   "source": [
    "Se ve una distribución casi idéntica para ambas enfermedades. Sigamos"
   ]
  },
  {
   "cell_type": "code",
   "execution_count": 19,
   "id": "968483a5-6949-4d4e-84b9-520b3fdbc1c3",
   "metadata": {},
   "outputs": [
    {
     "data": {
      "text/plain": [
       "<AxesSubplot:xlabel='Polio', ylabel='Diphtheria'>"
      ]
     },
     "execution_count": 19,
     "metadata": {},
     "output_type": "execute_result"
    },
    {
     "data": {
      "image/png": "[encoded data removed]",
      "text/plain": [
       "<Figure size 432x288 with 1 Axes>"
      ]
     },
     "metadata": {
      "needs_background": "light"
     },
     "output_type": "display_data"
    }
   ],
   "source": [
    "sns.scatterplot(data = df_red, x = \"Polio\", y = \"Diphtheria\")"
   ]
  },
  {
   "cell_type": "code",
   "execution_count": 20,
   "id": "ecc4409a-82e4-4004-a2d1-08ef619a9daf",
   "metadata": {},
   "outputs": [
    {
     "data": {
      "text/html": [
       "<div>\n",
       "<style scoped>\n",
       "    .dataframe tbody tr th:only-of-type {\n",
       "        vertical-align: middle;\n",
       "    }\n",
       "\n",
       "    .dataframe tbody tr th {\n",
       "        vertical-align: top;\n",
       "    }\n",
       "\n",
       "    .dataframe thead th {\n",
       "        text-align: right;\n",
       "    }\n",
       "</style>\n",
       "<table border=\"1\" class=\"dataframe\">\n",
       "  <thead>\n",
       "    <tr style=\"text-align: right;\">\n",
       "      <th></th>\n",
       "      <th>Polio</th>\n",
       "      <th>Diphtheria</th>\n",
       "    </tr>\n",
       "  </thead>\n",
       "  <tbody>\n",
       "    <tr>\n",
       "      <th>Polio</th>\n",
       "      <td>1.000000</td>\n",
       "      <td>0.945657</td>\n",
       "    </tr>\n",
       "    <tr>\n",
       "      <th>Diphtheria</th>\n",
       "      <td>0.945657</td>\n",
       "      <td>1.000000</td>\n",
       "    </tr>\n",
       "  </tbody>\n",
       "</table>\n",
       "</div>"
      ],
      "text/plain": [
       "               Polio  Diphtheria\n",
       "Polio       1.000000    0.945657\n",
       "Diphtheria  0.945657    1.000000"
      ]
     },
     "execution_count": 20,
     "metadata": {},
     "output_type": "execute_result"
    }
   ],
   "source": [
    "df[[\"Polio\", \"Diphtheria\"]].corr()"
   ]
  },
  {
   "cell_type": "code",
   "execution_count": 21,
   "id": "ec14904b-eed3-4e4e-9fac-3c9eb2472402",
   "metadata": {},
   "outputs": [
    {
     "data": {
      "text/html": [
       "<div>\n",
       "<style scoped>\n",
       "    .dataframe tbody tr th:only-of-type {\n",
       "        vertical-align: middle;\n",
       "    }\n",
       "\n",
       "    .dataframe tbody tr th {\n",
       "        vertical-align: top;\n",
       "    }\n",
       "\n",
       "    .dataframe thead th {\n",
       "        text-align: right;\n",
       "    }\n",
       "</style>\n",
       "<table border=\"1\" class=\"dataframe\">\n",
       "  <thead>\n",
       "    <tr style=\"text-align: right;\">\n",
       "      <th></th>\n",
       "      <th>Polio</th>\n",
       "      <th>Life expectancy</th>\n",
       "    </tr>\n",
       "  </thead>\n",
       "  <tbody>\n",
       "    <tr>\n",
       "      <th>Polio</th>\n",
       "      <td>1.000000</td>\n",
       "      <td>0.679231</td>\n",
       "    </tr>\n",
       "    <tr>\n",
       "      <th>Life expectancy</th>\n",
       "      <td>0.679231</td>\n",
       "      <td>1.000000</td>\n",
       "    </tr>\n",
       "  </tbody>\n",
       "</table>\n",
       "</div>"
      ],
      "text/plain": [
       "                    Polio  Life expectancy\n",
       "Polio            1.000000         0.679231\n",
       "Life expectancy  0.679231         1.000000"
      ]
     },
     "execution_count": 21,
     "metadata": {},
     "output_type": "execute_result"
    }
   ],
   "source": [
    "df[[\"Polio\", \"Life expectancy\"]].corr()"
   ]
  },
  {
   "cell_type": "code",
   "execution_count": 22,
   "id": "4ec48179-f5e1-48ec-a4ca-bbb702011a28",
   "metadata": {},
   "outputs": [
    {
     "data": {
      "text/html": [
       "<div>\n",
       "<style scoped>\n",
       "    .dataframe tbody tr th:only-of-type {\n",
       "        vertical-align: middle;\n",
       "    }\n",
       "\n",
       "    .dataframe tbody tr th {\n",
       "        vertical-align: top;\n",
       "    }\n",
       "\n",
       "    .dataframe thead th {\n",
       "        text-align: right;\n",
       "    }\n",
       "</style>\n",
       "<table border=\"1\" class=\"dataframe\">\n",
       "  <thead>\n",
       "    <tr style=\"text-align: right;\">\n",
       "      <th></th>\n",
       "      <th>Diphtheria</th>\n",
       "      <th>Life expectancy</th>\n",
       "    </tr>\n",
       "  </thead>\n",
       "  <tbody>\n",
       "    <tr>\n",
       "      <th>Diphtheria</th>\n",
       "      <td>1.000000</td>\n",
       "      <td>0.672322</td>\n",
       "    </tr>\n",
       "    <tr>\n",
       "      <th>Life expectancy</th>\n",
       "      <td>0.672322</td>\n",
       "      <td>1.000000</td>\n",
       "    </tr>\n",
       "  </tbody>\n",
       "</table>\n",
       "</div>"
      ],
      "text/plain": [
       "                 Diphtheria  Life expectancy\n",
       "Diphtheria         1.000000         0.672322\n",
       "Life expectancy    0.672322         1.000000"
      ]
     },
     "execution_count": 22,
     "metadata": {},
     "output_type": "execute_result"
    }
   ],
   "source": [
    "df[[\"Diphtheria\", \"Life expectancy\"]].corr()"
   ]
  },
  {
   "cell_type": "markdown",
   "id": "0fe55df4-51d6-4548-9756-06bd8010fdc9",
   "metadata": {},
   "source": [
    "Elegimos Polio y descartaremos Diphtheria, ya que están altamente correlacionados pero Polio se correlaciona un poco más con Life Expectancy.\n",
    "De hecho se ve que tiene una muy alta correlación."
   ]
  },
  {
   "cell_type": "markdown",
   "id": "a93784d6-001d-4a5a-8c32-6a7b9a01e721",
   "metadata": {},
   "source": [
    "Ahora veamos cómo se comporta el target Total expenditure"
   ]
  },
  {
   "cell_type": "code",
   "execution_count": 23,
   "id": "3222a05c-8f3a-45c9-9d5f-5377d949a38c",
   "metadata": {},
   "outputs": [
    {
     "data": {
      "text/plain": [
       "<AxesSubplot:>"
      ]
     },
     "execution_count": 23,
     "metadata": {},
     "output_type": "execute_result"
    },
    {
     "data": {
      "image/png": "[encoded data removed]",
      "text/plain": [
       "<Figure size 432x288 with 1 Axes>"
      ]
     },
     "metadata": {
      "needs_background": "light"
     },
     "output_type": "display_data"
    }
   ],
   "source": [
    "sns.boxplot(x = total_exp)"
   ]
  },
  {
   "cell_type": "code",
   "execution_count": 24,
   "id": "986546e3-8a07-48f7-aef8-d6508be7675a",
   "metadata": {},
   "outputs": [
    {
     "data": {
      "text/plain": [
       "<seaborn.axisgrid.FacetGrid at 0x7f859635f850>"
      ]
     },
     "execution_count": 24,
     "metadata": {},
     "output_type": "execute_result"
    },
    {
     "data": {
      "image/png": "[encoded data removed]",
      "text/plain": [
       "<Figure size 402.25x360 with 1 Axes>"
      ]
     },
     "metadata": {
      "needs_background": "light"
     },
     "output_type": "display_data"
    }
   ],
   "source": [
    "sns.displot(total_exp, kde = True)"
   ]
  },
  {
   "cell_type": "code",
   "execution_count": null,
   "id": "c4c0e803-c4b3-45b1-a414-253bf1c1fb55",
   "metadata": {},
   "outputs": [],
   "source": []
  },
  {
   "cell_type": "code",
   "execution_count": null,
   "id": "a6e52317-630e-4741-b39c-d2cf491cac3d",
   "metadata": {},
   "outputs": [],
   "source": []
  },
  {
   "cell_type": "code",
   "execution_count": 25,
   "id": "62391072-647a-403b-9897-b1e1d4341468",
   "metadata": {},
   "outputs": [
    {
     "data": {
      "image/png": "[encoded data removed]",
      "text/plain": [
       "<Figure size 432x288 with 1 Axes>"
      ]
     },
     "metadata": {
      "needs_background": "light"
     },
     "output_type": "display_data"
    },
    {
     "name": "stdout",
     "output_type": "stream",
     "text": [
      "R2: [0.07588553]\n",
      "R2 ajustado: [0.06022258]\n",
      "RSE: [8.83063472]\n"
     ]
    }
   ],
   "source": [
    "run_analysis(df_red[[\"Polio\", \"Total expenditure\", \"under-five deaths\"]], y)"
   ]
  },
  {
   "cell_type": "code",
   "execution_count": null,
   "id": "ac276a6d-0665-4284-b82f-0e52886ad60a",
   "metadata": {},
   "outputs": [],
   "source": []
  },
  {
   "cell_type": "code",
   "execution_count": null,
   "id": "86835723-188b-478a-b7b8-a09447f71842",
   "metadata": {},
   "outputs": [],
   "source": []
  },
  {
   "cell_type": "code",
   "execution_count": null,
   "id": "6df04487-ee17-4e5f-ada4-b06e13bf61f2",
   "metadata": {},
   "outputs": [],
   "source": []
  }
 ],
 "metadata": {
  "kernelspec": {
   "display_name": "Python 3 (ipykernel)",
   "language": "python",
   "name": "python3"
  },
  "language_info": {
   "codemirror_mode": {
    "name": "ipython",
    "version": 3
   },
   "file_extension": ".py",
   "mimetype": "text/x-python",
   "name": "python",
   "nbconvert_exporter": "python",
   "pygments_lexer": "ipython3",
   "version": "3.8.10"
  }
 },
 "nbformat": 4,
 "nbformat_minor": 5
}
