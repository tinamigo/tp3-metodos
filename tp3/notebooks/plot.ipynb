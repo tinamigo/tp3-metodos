{
 "cells": [
  {
   "cell_type": "code",
   "execution_count": 3,
   "id": "08ece953",
   "metadata": {},
   "outputs": [],
   "source": [
    "import sys\n",
    "sys.path.append('/home/dante/Documents/metnum tps again/mn-tp3/tp3/metnum3/lib/python3.8/site-packages')\n",
    "import matplotlib.pyplot as plt\n",
    "\n",
    "def plot(y, y_pred):\n",
    "    \n",
    "    # Residual vs fitted values\n",
    "    residuals = y - y_pred\n",
    "    plt.scatter(residuals, y_pred)\n",
    "    plt.title(\"Residual vs fitted values\")\n",
    "    plt.xlabel(\"Fitted values\")\n",
    "    plt.ylabel(\"Residual\")\n",
    "    plt.show()\n",
    "    \n",
    "    # Leverage \n",
    "    \n",
    "    \n",
    "    "
   ]
  },
  {
   "cell_type": "code",
   "execution_count": null,
   "id": "20a9698b",
   "metadata": {},
   "outputs": [],
   "source": []
  }
 ],
 "metadata": {
  "kernelspec": {
   "display_name": "Python 3 (ipykernel)",
   "language": "python",
   "name": "python3"
  },
  "language_info": {
   "codemirror_mode": {
    "name": "ipython",
    "version": 3
   },
   "file_extension": ".py",
   "mimetype": "text/x-python",
   "name": "python",
   "nbconvert_exporter": "python",
   "pygments_lexer": "ipython3",
   "version": "3.8.10"
  }
 },
 "nbformat": 4,
 "nbformat_minor": 5
}
