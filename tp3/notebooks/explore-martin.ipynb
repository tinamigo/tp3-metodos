{
 "cells": [
  {
   "cell_type": "code",
   "execution_count": 1,
   "id": "1116a8a8",
   "metadata": {},
   "outputs": [],
   "source": [
    "import pandas as pd\n",
    "import matplotlib.pyplot as plt"
   ]
  },
  {
   "cell_type": "code",
   "execution_count": 2,
   "id": "629a7cd8",
   "metadata": {},
   "outputs": [
    {
     "name": "stdout",
     "output_type": "stream",
     "text": [
      "<class 'pandas.core.frame.DataFrame'>\n",
      "RangeIndex: 183 entries, 0 to 182\n",
      "Data columns (total 22 columns):\n",
      " #   Column                           Non-Null Count  Dtype  \n",
      "---  ------                           --------------  -----  \n",
      " 0   Unnamed: 0                       183 non-null    int64  \n",
      " 1   Country                          183 non-null    object \n",
      " 2   Life expectancy                  183 non-null    float64\n",
      " 3   Adult Mortality                  183 non-null    float64\n",
      " 4   infant deaths                    183 non-null    float64\n",
      " 5   Alcohol                          182 non-null    float64\n",
      " 6   percentage expenditure           183 non-null    float64\n",
      " 7   Hepatitis B                      174 non-null    float64\n",
      " 8   Measles                          183 non-null    float64\n",
      " 9   BMI                              181 non-null    float64\n",
      " 10  under-five deaths                183 non-null    float64\n",
      " 11  Polio                            183 non-null    float64\n",
      " 12  Total expenditure                181 non-null    float64\n",
      " 13  Diphtheria                       183 non-null    float64\n",
      " 14  HIV/AIDS                         183 non-null    float64\n",
      " 15  GDP                              158 non-null    float64\n",
      " 16  Population                       143 non-null    float64\n",
      " 17  thinness  1-19 years             181 non-null    float64\n",
      " 18  thinness 5-9 years               181 non-null    float64\n",
      " 19  Income composition of resources  173 non-null    float64\n",
      " 20  Schooling                        173 non-null    float64\n",
      " 21  Status                           183 non-null    object \n",
      "dtypes: float64(19), int64(1), object(2)\n",
      "memory usage: 31.6+ KB\n"
     ]
    }
   ],
   "source": [
    "df = pd.read_csv(\"../dataset-folder/expectativa_de_vida.csv\")\n",
    "df.info()"
   ]
  },
  {
   "cell_type": "code",
   "execution_count": 42,
   "id": "7ee5cffa",
   "metadata": {},
   "outputs": [],
   "source": [
    "# yo:\n",
    "#     Life expectancy                  183 non-null    float64\n",
    "#     Adult Mortality                  183 non-null    float64\n",
    "#     infant deaths                    183 non-null    float64\n",
    "#     Alcohol\n",
    "#     continent"
   ]
  },
  {
   "cell_type": "code",
   "execution_count": 44,
   "id": "1778c2c0",
   "metadata": {},
   "outputs": [
    {
     "data": {
      "text/html": [
       "<div>\n",
       "<style scoped>\n",
       "    .dataframe tbody tr th:only-of-type {\n",
       "        vertical-align: middle;\n",
       "    }\n",
       "\n",
       "    .dataframe tbody tr th {\n",
       "        vertical-align: top;\n",
       "    }\n",
       "\n",
       "    .dataframe thead th {\n",
       "        text-align: right;\n",
       "    }\n",
       "</style>\n",
       "<table border=\"1\" class=\"dataframe\">\n",
       "  <thead>\n",
       "    <tr style=\"text-align: right;\">\n",
       "      <th></th>\n",
       "      <th>Country</th>\n",
       "      <th>Region Name</th>\n",
       "      <th>Sub-region Name</th>\n",
       "    </tr>\n",
       "  </thead>\n",
       "  <tbody>\n",
       "    <tr>\n",
       "      <th>0</th>\n",
       "      <td>Afghanistan</td>\n",
       "      <td>Asia</td>\n",
       "      <td>Southern Asia</td>\n",
       "    </tr>\n",
       "    <tr>\n",
       "      <th>1</th>\n",
       "      <td>Albania</td>\n",
       "      <td>Europe</td>\n",
       "      <td>Southern Europe</td>\n",
       "    </tr>\n",
       "    <tr>\n",
       "      <th>2</th>\n",
       "      <td>Algeria</td>\n",
       "      <td>Africa</td>\n",
       "      <td>Northern Africa</td>\n",
       "    </tr>\n",
       "    <tr>\n",
       "      <th>3</th>\n",
       "      <td>Angola</td>\n",
       "      <td>Africa</td>\n",
       "      <td>Sub-Saharan Africa</td>\n",
       "    </tr>\n",
       "    <tr>\n",
       "      <th>4</th>\n",
       "      <td>Antigua and Barbuda</td>\n",
       "      <td>Americas</td>\n",
       "      <td>Latin America and the Caribbean</td>\n",
       "    </tr>\n",
       "    <tr>\n",
       "      <th>...</th>\n",
       "      <td>...</td>\n",
       "      <td>...</td>\n",
       "      <td>...</td>\n",
       "    </tr>\n",
       "    <tr>\n",
       "      <th>175</th>\n",
       "      <td>Venezuela (Bolivarian Republic of)</td>\n",
       "      <td>Americas</td>\n",
       "      <td>Latin America and the Caribbean</td>\n",
       "    </tr>\n",
       "    <tr>\n",
       "      <th>176</th>\n",
       "      <td>Viet Nam</td>\n",
       "      <td>Asia</td>\n",
       "      <td>South-eastern Asia</td>\n",
       "    </tr>\n",
       "    <tr>\n",
       "      <th>177</th>\n",
       "      <td>Yemen</td>\n",
       "      <td>Asia</td>\n",
       "      <td>Western Asia</td>\n",
       "    </tr>\n",
       "    <tr>\n",
       "      <th>178</th>\n",
       "      <td>Zambia</td>\n",
       "      <td>Africa</td>\n",
       "      <td>Sub-Saharan Africa</td>\n",
       "    </tr>\n",
       "    <tr>\n",
       "      <th>179</th>\n",
       "      <td>Zimbabwe</td>\n",
       "      <td>Africa</td>\n",
       "      <td>Sub-Saharan Africa</td>\n",
       "    </tr>\n",
       "  </tbody>\n",
       "</table>\n",
       "<p>180 rows × 3 columns</p>\n",
       "</div>"
      ],
      "text/plain": [
       "                                Country Region Name  \\\n",
       "0                           Afghanistan        Asia   \n",
       "1                               Albania      Europe   \n",
       "2                               Algeria      Africa   \n",
       "3                                Angola      Africa   \n",
       "4                   Antigua and Barbuda    Americas   \n",
       "..                                  ...         ...   \n",
       "175  Venezuela (Bolivarian Republic of)    Americas   \n",
       "176                            Viet Nam        Asia   \n",
       "177                               Yemen        Asia   \n",
       "178                              Zambia      Africa   \n",
       "179                            Zimbabwe      Africa   \n",
       "\n",
       "                     Sub-region Name  \n",
       "0                      Southern Asia  \n",
       "1                    Southern Europe  \n",
       "2                    Northern Africa  \n",
       "3                 Sub-Saharan Africa  \n",
       "4    Latin America and the Caribbean  \n",
       "..                               ...  \n",
       "175  Latin America and the Caribbean  \n",
       "176               South-eastern Asia  \n",
       "177                     Western Asia  \n",
       "178               Sub-Saharan Africa  \n",
       "179               Sub-Saharan Africa  \n",
       "\n",
       "[180 rows x 3 columns]"
      ]
     },
     "execution_count": 44,
     "metadata": {},
     "output_type": "execute_result"
    }
   ],
   "source": [
    "countries = pd.read_csv(\"../dataset-folder/countries-UNSD.csv\")\n",
    "countries['Country'] = countries['Country or Area']\n",
    "res = pd.merge(df, countries, on='Country')\n",
    "res[['Country','Region Name','Sub-region Name']]"
   ]
  },
  {
   "cell_type": "code",
   "execution_count": 69,
   "id": "b7cc3d03",
   "metadata": {},
   "outputs": [
    {
     "data": {
      "text/plain": [
       "(array([ 1.,  1.,  2.,  4.,  2.,  2.,  3.,  7.,  5.,  5.,  4.,  2.,  6.,\n",
       "         5.,  2.,  7.,  5.,  6.,  4.,  8.,  5., 10., 26., 17.,  8.,  4.,\n",
       "         3.,  5., 11., 13.]),\n",
       " array([46.1125    , 47.32666667, 48.54083333, 49.755     , 50.96916667,\n",
       "        52.18333333, 53.3975    , 54.61166667, 55.82583333, 57.04      ,\n",
       "        58.25416667, 59.46833333, 60.6825    , 61.89666667, 63.11083333,\n",
       "        64.325     , 65.53916667, 66.75333333, 67.9675    , 69.18166667,\n",
       "        70.39583333, 71.61      , 72.82416667, 74.03833333, 75.2525    ,\n",
       "        76.46666667, 77.68083333, 78.895     , 80.10916667, 81.32333333,\n",
       "        82.5375    ]),\n",
       " <BarContainer object of 30 artists>)"
      ]
     },
     "execution_count": 69,
     "metadata": {},
     "output_type": "execute_result"
    },
    {
     "data": {
      "image/png": "[encoded data removed]",
      "text/plain": [
       "<Figure size 432x288 with 1 Axes>"
      ]
     },
     "metadata": {
      "needs_background": "light"
     },
     "output_type": "display_data"
    }
   ],
   "source": [
    "high_life_exp = df[df['Life expectancy']>60]\n",
    "plt.hist(df['Life expectancy'],30)"
   ]
  },
  {
   "cell_type": "code",
   "execution_count": 68,
   "id": "4f126384",
   "metadata": {},
   "outputs": [
    {
     "data": {
      "text/plain": [
       "<matplotlib.collections.PathCollection at 0x7f3b4a354fd0>"
      ]
     },
     "execution_count": 68,
     "metadata": {},
     "output_type": "execute_result"
    },
    {
     "data": {
      "image/png": "[encoded data removed]",
      "text/plain": [
       "<Figure size 432x288 with 1 Axes>"
      ]
     },
     "metadata": {
      "needs_background": "light"
     },
     "output_type": "display_data"
    }
   ],
   "source": [
    "plt.scatter(df['Adult Mortality'],df['Life expectancy'])"
   ]
  },
  {
   "cell_type": "code",
   "execution_count": 4,
   "id": "f0ca8c22",
   "metadata": {},
   "outputs": [
    {
     "data": {
      "text/plain": [
       "(array([38., 32., 55., 19., 16., 12.,  5.,  3.,  2.,  1.]),\n",
       " array([ 18.75   ,  71.88125, 125.0125 , 178.14375, 231.275  , 284.40625,\n",
       "        337.5375 , 390.66875, 443.8    , 496.93125, 550.0625 ]),\n",
       " <BarContainer object of 10 artists>)"
      ]
     },
     "execution_count": 4,
     "metadata": {},
     "output_type": "execute_result"
    },
    {
     "data": {
      "image/png": "[encoded data removed]",
      "text/plain": [
       "<Figure size 432x288 with 1 Axes>"
      ]
     },
     "metadata": {
      "needs_background": "light"
     },
     "output_type": "display_data"
    }
   ],
   "source": [
    "plt.hist(df['Adult Mortality'])"
   ]
  },
  {
   "cell_type": "code",
   "execution_count": 80,
   "id": "27d318a0",
   "metadata": {},
   "outputs": [
    {
     "data": {
      "text/plain": [
       "(array([50.,  5.,  4., 13.,  3.,  1.,  8.,  4.,  4.,  5.,  2.,  1.,  2.,\n",
       "         3.,  0.,  1.,  0.,  0.,  1.,  3.,  0.,  1.,  1.,  2.,  1.,  0.,\n",
       "         1.,  0.,  1.,  1.]),\n",
       " array([0.     , 0.33125, 0.6625 , 0.99375, 1.325  , 1.65625, 1.9875 ,\n",
       "        2.31875, 2.65   , 2.98125, 3.3125 , 3.64375, 3.975  , 4.30625,\n",
       "        4.6375 , 4.96875, 5.3    , 5.63125, 5.9625 , 6.29375, 6.625  ,\n",
       "        6.95625, 7.2875 , 7.61875, 7.95   , 8.28125, 8.6125 , 8.94375,\n",
       "        9.275  , 9.60625, 9.9375 ]),\n",
       " <BarContainer object of 30 artists>)"
      ]
     },
     "execution_count": 80,
     "metadata": {},
     "output_type": "execute_result"
    },
    {
     "data": {
      "image/png": "[encoded data removed]",
      "text/plain": [
       "<Figure size 432x288 with 1 Axes>"
      ]
     },
     "metadata": {
      "needs_background": "light"
     },
     "output_type": "display_data"
    }
   ],
   "source": [
    "#INUTIL\n",
    "low_inf_death = df[df['infant deaths']<10]\n",
    "plt.hist(low_inf_death['infant deaths'],30)"
   ]
  },
  {
   "cell_type": "code",
   "execution_count": 75,
   "id": "e41ddaca",
   "metadata": {},
   "outputs": [
    {
     "data": {
      "text/plain": [
       "<matplotlib.collections.PathCollection at 0x7f3b49fc5910>"
      ]
     },
     "execution_count": 75,
     "metadata": {},
     "output_type": "execute_result"
    },
    {
     "data": {
      "image/png": "[encoded data removed]",
      "text/plain": [
       "<Figure size 432x288 with 1 Axes>"
      ]
     },
     "metadata": {
      "needs_background": "light"
     },
     "output_type": "display_data"
    }
   ],
   "source": [
    "plt.scatter(low_inf_death['infant deaths'],low_inf_death['Life expectancy'])"
   ]
  },
  {
   "cell_type": "code",
   "execution_count": 81,
   "id": "c5c3deaa",
   "metadata": {},
   "outputs": [
    {
     "data": {
      "text/plain": [
       "<matplotlib.collections.PathCollection at 0x7f3b49c26370>"
      ]
     },
     "execution_count": 81,
     "metadata": {},
     "output_type": "execute_result"
    },
    {
     "data": {
      "image/png": "[encoded data removed]",
      "text/plain": [
       "<Figure size 432x288 with 1 Axes>"
      ]
     },
     "metadata": {
      "needs_background": "light"
     },
     "output_type": "display_data"
    }
   ],
   "source": []
  },
  {
   "cell_type": "code",
   "execution_count": 46,
   "id": "974f8e68",
   "metadata": {},
   "outputs": [
    {
     "data": {
      "text/plain": [
       "(array([49., 29., 16., 17., 15., 16., 13., 11.,  8.,  8.]),\n",
       " array([1.00000000e-02, 1.35873333e+00, 2.70746667e+00, 4.05620000e+00,\n",
       "        5.40493333e+00, 6.75366667e+00, 8.10240000e+00, 9.45113333e+00,\n",
       "        1.07998667e+01, 1.21486000e+01, 1.34973333e+01]),\n",
       " <BarContainer object of 10 artists>)"
      ]
     },
     "execution_count": 46,
     "metadata": {},
     "output_type": "execute_result"
    },
    {
     "data": {
      "image/png": "[encoded data removed]",
      "text/plain": [
       "<Figure size 432x288 with 1 Axes>"
      ]
     },
     "metadata": {
      "needs_background": "light"
     },
     "output_type": "display_data"
    }
   ],
   "source": [
    "plt.hist(df['Alcohol'])"
   ]
  },
  {
   "cell_type": "code",
   "execution_count": 83,
   "id": "e57596bf",
   "metadata": {},
   "outputs": [
    {
     "data": {
      "text/plain": [
       "<matplotlib.collections.PathCollection at 0x7f3b49b83ca0>"
      ]
     },
     "execution_count": 83,
     "metadata": {},
     "output_type": "execute_result"
    },
    {
     "data": {
      "image/png": "[encoded data removed]",
      "text/plain": [
       "<Figure size 432x288 with 1 Axes>"
      ]
     },
     "metadata": {
      "needs_background": "light"
     },
     "output_type": "display_data"
    }
   ],
   "source": [
    "plt.scatter(df['Alcohol'],df['Life expectancy'])\n"
   ]
  },
  {
   "cell_type": "markdown",
   "id": "b9fcadb1",
   "metadata": {},
   "source": [
    "Esperaba que correlacione negativamente (cuanto más alcohol, menos expectativa de vida). parece que lo que está detrás como causa común es la riqueza del país. En la tabla de abajo y el grafico se corrobora esa intuición"
   ]
  },
  {
   "cell_type": "code",
   "execution_count": 84,
   "id": "28e2d13c",
   "metadata": {},
   "outputs": [
    {
     "data": {
      "text/plain": [
       "Sub-region Name\n",
       "Northern Africa                     0.648778\n",
       "Southern Asia                       0.664486\n",
       "Melanesia                           0.912667\n",
       "Micronesia                          1.293000\n",
       "Polynesia                           1.935667\n",
       "Western Asia                        1.951961\n",
       "South-eastern Asia                  2.000712\n",
       "Central Asia                        2.700533\n",
       "Sub-Saharan Africa                  2.874785\n",
       "Eastern Asia                        5.086400\n",
       "Latin America and the Caribbean     5.830860\n",
       "Southern Europe                     8.196276\n",
       "Northern America                    8.316333\n",
       "Northern Europe                     9.518429\n",
       "Australia and New Zealand           9.660792\n",
       "Eastern Europe                     10.629933\n",
       "Western Europe                     11.202667\n",
       "Name: Alcohol, dtype: float64"
      ]
     },
     "execution_count": 84,
     "metadata": {},
     "output_type": "execute_result"
    }
   ],
   "source": [
    "(res.groupby('Sub-region Name')['Alcohol'].mean()).sort_values()"
   ]
  },
  {
   "cell_type": "code",
   "execution_count": 86,
   "id": "0734dd6b",
   "metadata": {},
   "outputs": [
    {
     "data": {
      "text/plain": [
       "<matplotlib.collections.PathCollection at 0x7f3b49a4bfd0>"
      ]
     },
     "execution_count": 86,
     "metadata": {},
     "output_type": "execute_result"
    },
    {
     "data": {
      "image/png": "[encoded data removed]",
      "text/plain": [
       "<Figure size 432x288 with 1 Axes>"
      ]
     },
     "metadata": {
      "needs_background": "light"
     },
     "output_type": "display_data"
    }
   ],
   "source": [
    "plt.scatter(df['GDP'],df['Alcohol'])\n"
   ]
  },
  {
   "cell_type": "code",
   "execution_count": 67,
   "id": "63bec855",
   "metadata": {},
   "outputs": [
    {
     "data": {
      "text/plain": [
       "Region Name\n",
       "Africa      58.910216\n",
       "Asia        71.194681\n",
       "Oceania     71.214375\n",
       "Americas    73.485417\n",
       "Europe      77.518257\n",
       "Name: Life expectancy, dtype: float64"
      ]
     },
     "execution_count": 67,
     "metadata": {},
     "output_type": "execute_result"
    }
   ],
   "source": [
    "(res.groupby('Region Name')['Life expectancy'].mean()).sort_values()"
   ]
  },
  {
   "cell_type": "code",
   "execution_count": 66,
   "id": "7fd0fd71",
   "metadata": {},
   "outputs": [
    {
     "data": {
      "text/plain": [
       "Sub-region Name\n",
       "Sub-Saharan Africa                 57.334511\n",
       "Micronesia                         66.675000\n",
       "Central Asia                       67.030000\n",
       "Melanesia                          67.373437\n",
       "Southern Asia                      68.094444\n",
       "South-eastern Asia                 70.035227\n",
       "Northern Africa                    70.990625\n",
       "Eastern Europe                     72.548125\n",
       "Latin America and the Caribbean    73.073185\n",
       "Polynesia                          73.075000\n",
       "Western Asia                       73.846691\n",
       "Eastern Asia                       74.473750\n",
       "Southern Europe                    78.296591\n",
       "Northern Europe                    78.915000\n",
       "Northern America                   79.875000\n",
       "Western Europe                     81.400000\n",
       "Australia and New Zealand          81.575000\n",
       "Name: Life expectancy, dtype: float64"
      ]
     },
     "execution_count": 66,
     "metadata": {},
     "output_type": "execute_result"
    }
   ],
   "source": [
    "(res.groupby('Sub-region Name')['Life expectancy'].mean()).sort_values()"
   ]
  }
 ],
 "metadata": {
  "kernelspec": {
   "display_name": "Python 3 (ipykernel)",
   "language": "python",
   "name": "python3"
  },
  "language_info": {
   "codemirror_mode": {
    "name": "ipython",
    "version": 3
   },
   "file_extension": ".py",
   "mimetype": "text/x-python",
   "name": "python",
   "nbconvert_exporter": "python",
   "pygments_lexer": "ipython3",
   "version": "3.8.10"
  }
 },
 "nbformat": 4,
 "nbformat_minor": 5
}
